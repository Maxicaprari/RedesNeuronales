{
  "nbformat": 4,
  "nbformat_minor": 0,
  "metadata": {
    "colab": {
      "provenance": [],
      "gpuType": "T4"
    },
    "kernelspec": {
      "name": "python3",
      "display_name": "Python 3"
    },
    "language_info": {
      "name": "python"
    },
    "accelerator": "GPU"
  },
  "cells": [
    {
      "cell_type": "markdown",
      "source": [
        "# PyTorch: Autoencoder convolucional Fashion-MNIST\n",
        "\n",
        "## Refs.\n",
        "\n",
        "* https://pytorch.org/tutorials/beginner/basics/optimization_tutorial.html\n",
        "\n",
        "* https://github.com/zalandoresearch/fashion-mnist\n",
        "\n",
        "* https://github.com/pranay414/Fashion-MNIST-Pytorch/blob/master/fashion_mnist.ipynb\n",
        "\n",
        "## **Ejercicio 1)** Importando librerías\n",
        "\n",
        "**0)** De ser necesario, **instale PyTorch** escribiendo\n",
        "\n",
        "    !pip3 install torch torchvision torchaudio torchviz\n",
        "\n",
        "**1)** Importe las librerías estandard de Python: `os`, `datetime`, `collections` y `pickle`.\n",
        "\n",
        "**2)** Importe las siguientes librerías third party de Python: `matplotlib.pyplot`, `numpy`, `scipy`, `sklearn`, `pandas`, `dill` y `json`.\n",
        "\n",
        "**3)** Importe las librerias necesarias de **PyTorch**: `torch` y `torchvision`.\n",
        "\n",
        "**4)** Importe la librería: `google.colab`."
      ],
      "metadata": {
        "id": "NRYEofSD0xoF"
      }
    },
    {
      "cell_type": "code",
      "source": [
        "# 1.0)\n",
        "!pip3 install torch torchvision torchaudio torchviz"
      ],
      "metadata": {
        "id": "Jg3VSqHCGSub",
        "colab": {
          "base_uri": "https://localhost:8080/"
        },
        "outputId": "dd1f6896-e047-46c4-ff5d-24783f389a94"
      },
      "execution_count": 1,
      "outputs": [
        {
          "output_type": "stream",
          "name": "stdout",
          "text": [
            "Requirement already satisfied: torch in /usr/local/lib/python3.11/dist-packages (2.5.1+cu121)\n",
            "Requirement already satisfied: torchvision in /usr/local/lib/python3.11/dist-packages (0.20.1+cu121)\n",
            "Requirement already satisfied: torchaudio in /usr/local/lib/python3.11/dist-packages (2.5.1+cu121)\n",
            "Collecting torchviz\n",
            "  Downloading torchviz-0.0.3-py3-none-any.whl.metadata (2.1 kB)\n",
            "Requirement already satisfied: filelock in /usr/local/lib/python3.11/dist-packages (from torch) (3.16.1)\n",
            "Requirement already satisfied: typing-extensions>=4.8.0 in /usr/local/lib/python3.11/dist-packages (from torch) (4.12.2)\n",
            "Requirement already satisfied: networkx in /usr/local/lib/python3.11/dist-packages (from torch) (3.4.2)\n",
            "Requirement already satisfied: jinja2 in /usr/local/lib/python3.11/dist-packages (from torch) (3.1.5)\n",
            "Requirement already satisfied: fsspec in /usr/local/lib/python3.11/dist-packages (from torch) (2024.10.0)\n",
            "Requirement already satisfied: nvidia-cuda-nvrtc-cu12==12.1.105 in /usr/local/lib/python3.11/dist-packages (from torch) (12.1.105)\n",
            "Requirement already satisfied: nvidia-cuda-runtime-cu12==12.1.105 in /usr/local/lib/python3.11/dist-packages (from torch) (12.1.105)\n",
            "Requirement already satisfied: nvidia-cuda-cupti-cu12==12.1.105 in /usr/local/lib/python3.11/dist-packages (from torch) (12.1.105)\n",
            "Requirement already satisfied: nvidia-cudnn-cu12==9.1.0.70 in /usr/local/lib/python3.11/dist-packages (from torch) (9.1.0.70)\n",
            "Requirement already satisfied: nvidia-cublas-cu12==12.1.3.1 in /usr/local/lib/python3.11/dist-packages (from torch) (12.1.3.1)\n",
            "Requirement already satisfied: nvidia-cufft-cu12==11.0.2.54 in /usr/local/lib/python3.11/dist-packages (from torch) (11.0.2.54)\n",
            "Requirement already satisfied: nvidia-curand-cu12==10.3.2.106 in /usr/local/lib/python3.11/dist-packages (from torch) (10.3.2.106)\n",
            "Requirement already satisfied: nvidia-cusolver-cu12==11.4.5.107 in /usr/local/lib/python3.11/dist-packages (from torch) (11.4.5.107)\n",
            "Requirement already satisfied: nvidia-cusparse-cu12==12.1.0.106 in /usr/local/lib/python3.11/dist-packages (from torch) (12.1.0.106)\n",
            "Requirement already satisfied: nvidia-nccl-cu12==2.21.5 in /usr/local/lib/python3.11/dist-packages (from torch) (2.21.5)\n",
            "Requirement already satisfied: nvidia-nvtx-cu12==12.1.105 in /usr/local/lib/python3.11/dist-packages (from torch) (12.1.105)\n",
            "Requirement already satisfied: triton==3.1.0 in /usr/local/lib/python3.11/dist-packages (from torch) (3.1.0)\n",
            "Requirement already satisfied: sympy==1.13.1 in /usr/local/lib/python3.11/dist-packages (from torch) (1.13.1)\n",
            "Requirement already satisfied: nvidia-nvjitlink-cu12 in /usr/local/lib/python3.11/dist-packages (from nvidia-cusolver-cu12==11.4.5.107->torch) (12.6.85)\n",
            "Requirement already satisfied: mpmath<1.4,>=1.1.0 in /usr/local/lib/python3.11/dist-packages (from sympy==1.13.1->torch) (1.3.0)\n",
            "Requirement already satisfied: numpy in /usr/local/lib/python3.11/dist-packages (from torchvision) (1.26.4)\n",
            "Requirement already satisfied: pillow!=8.3.*,>=5.3.0 in /usr/local/lib/python3.11/dist-packages (from torchvision) (11.1.0)\n",
            "Requirement already satisfied: graphviz in /usr/local/lib/python3.11/dist-packages (from torchviz) (0.20.3)\n",
            "Requirement already satisfied: MarkupSafe>=2.0 in /usr/local/lib/python3.11/dist-packages (from jinja2->torch) (3.0.2)\n",
            "Downloading torchviz-0.0.3-py3-none-any.whl (5.7 kB)\n",
            "Installing collected packages: torchviz\n",
            "Successfully installed torchviz-0.0.3\n"
          ]
        }
      ]
    },
    {
      "cell_type": "code",
      "source": [
        "# 1.1)\n",
        "import os\n",
        "import pickle\n",
        "import datetime\n",
        "from collections import defaultdict"
      ],
      "metadata": {
        "id": "I8N3D_nU1_oT"
      },
      "execution_count": 2,
      "outputs": []
    },
    {
      "cell_type": "code",
      "source": [
        "# 1.2)\n",
        "import matplotlib.pyplot as plt\n",
        "from matplotlib import cm\n",
        "import numpy as np\n",
        "import scipy as sp\n",
        "import scipy.linalg as linalg\n",
        "import sklearn as skl\n",
        "import pandas as pd\n",
        "#import dill\n",
        "import json"
      ],
      "metadata": {
        "id": "QsfFvPYhkCGl"
      },
      "execution_count": 3,
      "outputs": []
    },
    {
      "cell_type": "code",
      "source": [
        "# 1.3)\n",
        "import torch\n",
        "import torch.optim as optim\n",
        "from torch import nn\n",
        "from torch.nn import functional as F\n",
        "from torch.utils.data import Dataset, DataLoader, Subset, random_split\n",
        "from torchvision import datasets\n",
        "from torchvision import transforms\n",
        "from torchvision.io import read_image\n",
        "from torchvision.transforms import ToTensor, Lambda, Compose\n",
        "#from torchviz import make_dot"
      ],
      "metadata": {
        "id": "Uot5sVNnkCNa"
      },
      "execution_count": 4,
      "outputs": []
    },
    {
      "cell_type": "code",
      "source": [
        "# 1.4)\n",
        "import google.colab\n",
        "from google.colab import files"
      ],
      "metadata": {
        "id": "rVCiYt-1kCUi"
      },
      "execution_count": 5,
      "outputs": []
    },
    {
      "cell_type": "code",
      "source": [
        "device = 'cuda' if torch.cuda.is_available() else 'cpu'\n",
        "device"
      ],
      "metadata": {
        "id": "oUFvWw_kr7Bt",
        "colab": {
          "base_uri": "https://localhost:8080/",
          "height": 36
        },
        "outputId": "3c65055f-385f-40b0-979f-2e080898467f"
      },
      "execution_count": 6,
      "outputs": [
        {
          "output_type": "execute_result",
          "data": {
            "text/plain": [
              "'cuda'"
            ],
            "application/vnd.google.colaboratory.intrinsic+json": {
              "type": "string"
            }
          },
          "metadata": {},
          "execution_count": 6
        }
      ]
    },
    {
      "cell_type": "markdown",
      "source": [
        "## **Ejercicio 2)**\n",
        "\n",
        "Bajando y Jugando con el dataset **Fashion-MNIST**.\n",
        "\n",
        "**1)** Baje y transforme los conjuntos de entrenamiento y testeo de FashionMNIST.\n",
        "\n",
        "**2)** Grafique un mosaico de 3x3 imagenes de FashionMNIST, cada una titulada con su respectiva clasificación"
      ],
      "metadata": {
        "id": "NcaGEHAd10sb"
      }
    },
    {
      "cell_type": "code",
      "source": [
        "# 2.1)\n",
        "# Define a transform to normalize the data\n",
        "transform = transforms.Compose([transforms.ToTensor(),transforms.Normalize((0.5,), (0.5,))])\n",
        "\n",
        "# Download and load the training data\n",
        "train_set_orig = datasets.FashionMNIST('MNIST_data/', download = True, train = True,  transform = transform)\n",
        "valid_set_orig = datasets.FashionMNIST('MNIST_data/', download = True, train = False, transform = transform)"
      ],
      "metadata": {
        "id": "NUoQ9bnwaZ7O",
        "colab": {
          "base_uri": "https://localhost:8080/"
        },
        "outputId": "f76070b2-8f54-457b-cd25-d3ea68577539"
      },
      "execution_count": 7,
      "outputs": [
        {
          "output_type": "stream",
          "name": "stdout",
          "text": [
            "Downloading http://fashion-mnist.s3-website.eu-central-1.amazonaws.com/train-images-idx3-ubyte.gz\n",
            "Downloading http://fashion-mnist.s3-website.eu-central-1.amazonaws.com/train-images-idx3-ubyte.gz to MNIST_data/FashionMNIST/raw/train-images-idx3-ubyte.gz\n"
          ]
        },
        {
          "output_type": "stream",
          "name": "stderr",
          "text": [
            "100%|██████████| 26.4M/26.4M [00:02<00:00, 10.8MB/s]\n"
          ]
        },
        {
          "output_type": "stream",
          "name": "stdout",
          "text": [
            "Extracting MNIST_data/FashionMNIST/raw/train-images-idx3-ubyte.gz to MNIST_data/FashionMNIST/raw\n",
            "\n",
            "Downloading http://fashion-mnist.s3-website.eu-central-1.amazonaws.com/train-labels-idx1-ubyte.gz\n",
            "Downloading http://fashion-mnist.s3-website.eu-central-1.amazonaws.com/train-labels-idx1-ubyte.gz to MNIST_data/FashionMNIST/raw/train-labels-idx1-ubyte.gz\n"
          ]
        },
        {
          "output_type": "stream",
          "name": "stderr",
          "text": [
            "100%|██████████| 29.5k/29.5k [00:00<00:00, 165kB/s]\n"
          ]
        },
        {
          "output_type": "stream",
          "name": "stdout",
          "text": [
            "Extracting MNIST_data/FashionMNIST/raw/train-labels-idx1-ubyte.gz to MNIST_data/FashionMNIST/raw\n",
            "\n",
            "Downloading http://fashion-mnist.s3-website.eu-central-1.amazonaws.com/t10k-images-idx3-ubyte.gz\n",
            "Downloading http://fashion-mnist.s3-website.eu-central-1.amazonaws.com/t10k-images-idx3-ubyte.gz to MNIST_data/FashionMNIST/raw/t10k-images-idx3-ubyte.gz\n"
          ]
        },
        {
          "output_type": "stream",
          "name": "stderr",
          "text": [
            "100%|██████████| 4.42M/4.42M [00:01<00:00, 3.09MB/s]\n"
          ]
        },
        {
          "output_type": "stream",
          "name": "stdout",
          "text": [
            "Extracting MNIST_data/FashionMNIST/raw/t10k-images-idx3-ubyte.gz to MNIST_data/FashionMNIST/raw\n",
            "\n",
            "Downloading http://fashion-mnist.s3-website.eu-central-1.amazonaws.com/t10k-labels-idx1-ubyte.gz\n",
            "Downloading http://fashion-mnist.s3-website.eu-central-1.amazonaws.com/t10k-labels-idx1-ubyte.gz to MNIST_data/FashionMNIST/raw/t10k-labels-idx1-ubyte.gz\n"
          ]
        },
        {
          "output_type": "stream",
          "name": "stderr",
          "text": [
            "100%|██████████| 5.15k/5.15k [00:00<00:00, 13.0MB/s]"
          ]
        },
        {
          "output_type": "stream",
          "name": "stdout",
          "text": [
            "Extracting MNIST_data/FashionMNIST/raw/t10k-labels-idx1-ubyte.gz to MNIST_data/FashionMNIST/raw\n",
            "\n"
          ]
        },
        {
          "output_type": "stream",
          "name": "stderr",
          "text": [
            "\n"
          ]
        }
      ]
    },
    {
      "cell_type": "code",
      "source": [
        "# 2.2)\n",
        "figure = plt.figure()\n",
        "cols,rows = 3,3\n",
        "for i in range(1,cols*rows+1):\n",
        "    j = torch.randint(len(train_set_orig),size=(1,)).item() # Los números aleatorios tambien se pueden generar desde pytorch. Util para trabajar en la GPU.\n",
        "    image,label = train_set_orig[j]\n",
        "    figure.add_subplot(rows,cols,i)\n",
        "    #plt.title(labels_names[label])\n",
        "    plt.axis(\"off\")\n",
        "    plt.imshow(image.squeeze(),cmap=\"Greys_r\")\n",
        "plt.show()"
      ],
      "metadata": {
        "id": "-wJdl9mKx5EC",
        "colab": {
          "base_uri": "https://localhost:8080/",
          "height": 406
        },
        "outputId": "4f9aeefb-11f3-4b06-cdd9-8730b5db1492"
      },
      "execution_count": 8,
      "outputs": [
        {
          "output_type": "display_data",
          "data": {
            "text/plain": [
              "<Figure size 640x480 with 9 Axes>"
            ],
            "image/png": "[encoded data removed]"
          },
          "metadata": {}
        }
      ]
    },
    {
      "cell_type": "markdown",
      "source": [
        "## Ejercicio 3) Creando un `DataSet` personalizado.\n",
        "\n",
        "**1)** Con el fin de implementar un autoencoder, cree una clase derivada de la clase `DataSet` (llámela, por ejemplo `CustomDataset`) que, en vez de retornal el label asociado a cada imagen de `FashionMNIST`, retorne la imagen misma.\n",
        "\n",
        "**2)** Utilice dicha clase para transformar los conjuntos de entrenamiento y testeo de `FashionMNIST` pensados para clasificación, a correspondientes conjuntos pensados para entrenar un autoencoder.\n",
        "Para ello, defina una clase `CustomDataset` que deriva de la clase `Dataset`, cuyo método `__getitem__(self,i)` retorne el pair `input,output` donde tanto `input` cómo `output` son iguales a la $i$-ésima imagen del dataset."
      ],
      "metadata": {
        "id": "1OWYnfxWz8RS"
      }
    },
    {
      "cell_type": "code",
      "source": [
        "# 3.1)\n",
        "\n",
        "class CustomDataset(Dataset):\n",
        "    def __init__(self, dataset):\n",
        "        self.dataset = dataset\n",
        "\n",
        "    def __len__(self):\n",
        "        return len(self.dataset)\n",
        "    def __getitem__(self,i):\n",
        "        image, label = self.dataset[i]\n",
        "        input = image\n",
        "        output = image\n",
        "        return input, output\n",
        "\n",
        "#Lo que hacemos aqui es especificar que los inputs y outputs serán imagenes, lo cual es necesario en autoencoders\n",
        "#No buscamos labels, ya que no estamos en un problema de clasificacion"
      ],
      "metadata": {
        "id": "sPjO1_Av1f87"
      },
      "execution_count": 9,
      "outputs": []
    },
    {
      "cell_type": "code",
      "source": [
        "#3.2\n",
        "#Convertimos Fashion Mnist Dataset a CustomDataset\n",
        "\n",
        "train_set = CustomDataset(train_set_orig)\n",
        "valid_set = CustomDataset(valid_set_orig)"
      ],
      "metadata": {
        "id": "BdKurH70F1Nb"
      },
      "execution_count": 10,
      "outputs": []
    },
    {
      "cell_type": "markdown",
      "source": [
        "## Ejercicio 4) Red Neuronal Autoencoder Convolucional\n",
        "\n",
        "**1)** Defina y cree una red neuronal *autoenconder convolucional* constituida por las siguientes capas:\n",
        "\n",
        "1. Una capa convolucional 2D constituida por:\n",
        "\n",
        "* Una capa `Conv2d` (ver https://pytorch.org/docs/stable/generated/torch.nn.Conv2d.html) que deberá mapear $1$ canal de entradas de dimensiones $(28,28)$ a $16$ canales de de salida de dimensiones $(26,26)$. Para ello utilice un kernel de dimensiones $(3,3)$ y el resto de los parámetros en sus valores por defecto.\n",
        "* Una capa `ReLU`.\n",
        "* Una capa `Dropout`.\n",
        "* Una capa `MaxPool` (ver https://pytorch.org/docs/stable/generated/torch.nn.MaxPool2d.html) con un kernel de dimensiones $(2,2)$, de manera que mapeará entradas de dimensiones $(26,26)$ a salidas de dimensiones $(13,13)$.\n",
        "\n",
        "2. Una capa lineal constituida por:\n",
        "\n",
        "* Una capa `Flatten` que mapea una entrada de $16$ canales de dimensiones $(13,13)$ a un vector de dimensión $16\\times 13\\times 13$.\n",
        "* Una capa `Linear` que mapea un vector de dimensión $16\\times 13\\times 13$ a un vector de dimensión $n$.\n",
        "* Una capa `ReLU`.\n",
        "* Una capa `Dropout`.\n",
        "\n",
        "3. Una capa capa convolucional 2D transpuesta, constituida por:\n",
        "\n",
        "* una capa `ConvTranspose2d` (ver https://pytorch.org/docs/stable/generated/torch.nn.ConvTranspose2d.html) que mapea $16$ canales de dimensiones $(13,13)$ a $1$ canal de dimensiones $(28,28)$. Para ello, utilice un kernel de dimensiones $(6,6)$ y un stride de dimensiones $(2,2)$, dejando el resto de los parámetros en sus valores por defecto, i.e. padding de $(1,1)$ y out_padding de $(0,0)$.\n",
        "\n",
        "* Una capa `Sigmoid`.\n",
        "\n",
        "**3)** Grafique, a modo de comparación, unas pocas imagenes a predecir vs las correspondientes imagenes predichas utilizando el modelo sin entrenar y dropout $p=0.2$."
      ],
      "metadata": {
        "id": "REToccG127zI"
      }
    },
    {
      "cell_type": "code",
      "source": [
        "# 4.1)\n",
        "def convt2d_z_out(z_in, stride, padding, dilation, kernel_size, output_padding):\n",
        "    z_out = (z_in - 1) * stride - 2 * padding + dilation * (kernel_size - 1) + output_padding + 1\n",
        "    return z_out"
      ],
      "metadata": {
        "id": "qSJqCozXCEq1"
      },
      "execution_count": 11,
      "outputs": []
    },
    {
      "cell_type": "code",
      "source": [
        "# PROBAMOS CON LOS DATOS DEL INCISO:\n",
        "convt2d_z_out(13,2,1,1,6,0)"
      ],
      "metadata": {
        "colab": {
          "base_uri": "https://localhost:8080/"
        },
        "id": "iyYYpw-jGh77",
        "outputId": "c4066137-a6a2-4c7a-bb58-08959980e3c6"
      },
      "execution_count": 12,
      "outputs": [
        {
          "output_type": "execute_result",
          "data": {
            "text/plain": [
              "28"
            ]
          },
          "metadata": {},
          "execution_count": 12
        }
      ]
    },
    {
      "cell_type": "code",
      "source": [
        "class Autoencoder(nn.Module):\n",
        "  def __init__(self, p=0.2):\n",
        "    super(Autoencoder, self).__init__()\n",
        "    self.flatten = nn.Flatten()\n",
        "    #ENCODER\n",
        "    self.Conv2d = nn.Sequential(\n",
        "        nn.Conv2d(in_channels=1, out_channels=16, kernel_size=3, stride=1, padding=0),\n",
        "        nn.ReLU(),\n",
        "        nn.Dropout(p),\n",
        "        nn.MaxPool2d(kernel_size=2, stride=2),\n",
        "    )\n",
        "    self.Linear = nn.Sequential(\n",
        "        nn.Flatten(),\n",
        "        nn.Linear(in_features=16*13*13, out_features=16*13*13),\n",
        "        nn.ReLU(),\n",
        "        nn.Dropout(p),\n",
        "    )\n",
        "    #DECODER\n",
        "    self.convt2d = nn.Sequential(\n",
        "        nn.Unflatten(dim=1, unflattened_size=(16, 13, 13)),\n",
        "        nn.ConvTranspose2d(in_channels=16, out_channels=1, kernel_size=6, stride=2, padding=1),\n",
        "        nn.Sigmoid(),\n",
        "    )\n",
        "  def forward(self, x):\n",
        "    x = self.Conv2d(x)\n",
        "    x = self.Linear(x)\n",
        "    x = self.convt2d(x)\n",
        "    return x"
      ],
      "metadata": {
        "id": "OP5D352PfHHD"
      },
      "execution_count": 13,
      "outputs": []
    },
    {
      "cell_type": "code",
      "source": [
        "# 4.2 CREAMOS EL MODELO\n",
        "\n",
        "p = 0.2\n",
        "model = Autoencoder(p=p)"
      ],
      "metadata": {
        "id": "neKe5BQshga_"
      },
      "execution_count": 14,
      "outputs": []
    },
    {
      "cell_type": "code",
      "source": [
        "#Create a dummy input tensor\n",
        "image = torch.randn(1,1,28,28)\n",
        "output = model(image)\n",
        "print(f\"Input size: {image.size()}\")\n",
        "print(f\"Output size: {output.size()}\")\n"
      ],
      "metadata": {
        "colab": {
          "base_uri": "https://localhost:8080/"
        },
        "id": "6Q8bXb78iCfW",
        "outputId": "8fc8fc25-afea-4179-c9a1-442cc887e505"
      },
      "execution_count": 15,
      "outputs": [
        {
          "output_type": "stream",
          "name": "stdout",
          "text": [
            "Input size: torch.Size([1, 1, 28, 28])\n",
            "Output size: torch.Size([1, 1, 28, 28])\n"
          ]
        }
      ]
    },
    {
      "cell_type": "code",
      "source": [
        "def batch(x):\n",
        "  return x.unsqueeze(0)\n",
        "\n",
        "def unbatch(x):\n",
        "  return x.squeeze().detach().cpu().numpy()"
      ],
      "metadata": {
        "id": "7nM2xZkUiyl-"
      },
      "execution_count": 16,
      "outputs": []
    },
    {
      "cell_type": "code",
      "source": [
        "image, _ = train_set[0]\n",
        "batched_image = batch(image)\n",
        "print(\"batched_size_image: \", batched_image.size())\n",
        "\n",
        "pred_batched_image = model(batched_image)\n",
        "print(\"pred_batched_size_image: \", pred_batched_image.size())\n",
        "\n",
        "pred_image = unbatch(pred_batched_image)\n",
        "print(\"pred_size_image: \", pred_image.shape)\n",
        "\n",
        "\n"
      ],
      "metadata": {
        "id": "1cSxmSYYjN1e",
        "colab": {
          "base_uri": "https://localhost:8080/"
        },
        "outputId": "b5e11144-f8d1-4c34-e003-feb8eb9ef23c"
      },
      "execution_count": 17,
      "outputs": [
        {
          "output_type": "stream",
          "name": "stdout",
          "text": [
            "batched_size_image:  torch.Size([1, 1, 28, 28])\n",
            "pred_batched_size_image:  torch.Size([1, 1, 28, 28])\n",
            "pred_size_image:  (28, 28)\n"
          ]
        }
      ]
    },
    {
      "cell_type": "markdown",
      "source": [
        "POR QUE USO SHAPE EN LUGAR DE SIZE: Función unbatch:\n",
        "\n",
        "Esta función convierte el tensor de PyTorch en un array de NumPy. Al hacerlo, se pierde el método .size() que es propio de los tensores de PyTorch."
      ],
      "metadata": {
        "id": "NwslMu_oe68A"
      }
    },
    {
      "cell_type": "code",
      "source": [
        "# AHORA VAMOS A VER LAS IMAGENES QUE PRODUCE EL MODELO SIN ENTRENAR\n",
        "\n",
        "#Creamos una figura para guardar los graficos y definimos la cuadricula de 3*2\n",
        "figure = plt.figure()\n",
        "rows, cols = 3,2\n",
        "i = 0\n",
        "\n",
        "\n",
        "#Creo un bucle para generar los subplots\n",
        "#image, _ = train_set[j]: Obtiene una imagen aleatoria del conjunto de entrenamiento (train_set). Aquí, _ ignora la etiqueta asociada (si la hubiera)\n",
        "\n",
        "for row in range(1, rows+1):\n",
        "  j = torch.randint(len(train_set),size=(1,)).item()\n",
        "  i +=1\n",
        "  image, _ = train_set[j]\n",
        "  figure.add_subplot(rows,cols,i)\n",
        "  if row == 1:\n",
        "    plt.title(\"Original\")\n",
        "  plt.axis(\"off\")\n",
        "  plt.imshow(unbatch(image),cmap=\"Greys_r\")\n",
        "\n",
        "  i += 1\n",
        "  figure.add_subplot(rows,cols,i)\n",
        "  if row == 1:\n",
        "    plt.title(\"Predicha\")\n",
        "  plt.axis(\"off\")\n",
        "  image_pred = unbatch(model(batch(image)))\n",
        "  plt.imshow(image_pred,cmap=\"Greys_r\")\n",
        "\n",
        "plt.show()"
      ],
      "metadata": {
        "colab": {
          "base_uri": "https://localhost:8080/",
          "height": 428
        },
        "id": "zmBD7xNre-9w",
        "outputId": "15ab1d7a-07af-4862-f918-bb6e694a9562"
      },
      "execution_count": 18,
      "outputs": [
        {
          "output_type": "display_data",
          "data": {
            "text/plain": [
              "<Figure size 640x480 with 6 Axes>"
            ],
            "image/png": "[encoded data removed]"
          },
          "metadata": {}
        }
      ]
    },
    {
      "cell_type": "markdown",
      "source": [
        "## Ejercicio 5) Entrenando el modelo\n",
        "\n",
        "**1)** Implemente, en una función, un loop de entrenamiento que recorra los batchs (lotes).\n",
        "\n",
        "**2)** Implemente, en una función, un loop de prueba o validación que recorra los batchs.\n",
        "\n",
        "**3)** Inicialize dos `DataLoader`s llamados `train_loader` y `valid_loader` que estén definidos sobre  el `train_set` (conjunto de entranmiento) y el `valid_set` (conjunto de prueba) de Fashion-MNIST, respectivamente, y que usen batchs de 100 ejemplos.\n",
        "\n",
        "**4)** Cree una función de pérdida usando el **Error Cuadrático Medio**.\n",
        "\n",
        "**5)** Cree un optimizador con un learning rate igual a $10^{-3}$.\n",
        "Pruebe con **ADAM**.\n",
        "\n",
        "**6)** Cree una instancia del modelo con dropout $p=0.2$.\n",
        "\n",
        "**7)** Especifique en que dispositivo (`device`) va a trabajar: en una **CPU** o en una **GPU**.\n",
        "\n",
        "**8)** Implemente un loop que itere sobre épocas de entrenamiento y validación, y que guarde en listas correspondientes los siguientes valores del **ECM**:\n",
        "*  promedios (incorrectos) sobre el conjunto de entrenamiento, calculado **durante** el proceso de entrenamiento sobre la época.\n",
        "*  promedios (correctos) sobre el conjunto de entrenamiento, calculados **posteriormente** al proceso de entrenamiento sobre la época.\n",
        "*  promedios (correctos) sobre el conjunto de validación, calculados **posteriormente** al proceso de entrenamiento sobre la época.\n",
        "\n",
        "**IMPORTANTE:** No olvide copiar los batchs al dispositivo de trabajo.\n",
        "\n",
        "**9)** Entrene y valide el modelo.\n",
        "\n",
        "**10)** Use las listas del inciso **8)** para graficar en función de las **épocas de entrenamiento** el **ECM** de **entrenamiento** y **validación**, respectivamente.\n",
        "Discuta y comente, cual es el número óptimo de épocas de entrenamiento?\n",
        "\n",
        "**11)** Grafique, comparativamente, algunas de las imagenes a predecir vs las imagenes predichas por el modelo entrenado.\n",
        "\n",
        "**12)** Repita para otras elecciones de los hiperparámetros tales como, el optimizador (podría ser el **SGD**), el **learning-rate**, el tamaño de los **batchs**, el **dropout**, **capas convolucionales** y **convolucionales traspuestas** de otros tamaños.\n",
        "En particular, pruebe eliminando, adecuadamente, la **capa lineal**.\n",
        "Que valores de estos hiperparámetros considera los más convenientes? Porqué?"
      ],
      "metadata": {
        "id": "A9uINlg69OTw"
      }
    },
    {
      "cell_type": "code",
      "source": [
        "# 5.1)\n",
        "\n",
        "#Definimos la funcion de entrenamiento\n",
        "def train_loop(dataloader, model, loss_fn, optimizer, verbose = True):\n",
        "    model.train()  # Activamos el modo de entrenamiento\n",
        "    num_samples = len(dataloader.dataset)\n",
        "    num_batches = len(dataloader)\n",
        "    sum_batch_avrg_loss = 0\n",
        "    num_processed_samples = 0\n",
        "\n",
        "    #Movemos el modelo a la gpu si es que está disponible\n",
        "    model = model.to(device)\n",
        "    #Iteramos sobre los lotes\n",
        "    for batch, (X,y) in enumerate(dataloader):\n",
        "      X = X.to(device)\n",
        "      y = y.to(device)\n",
        "      batch_size = len(X)\n",
        "      num_processed_samples += batch_size\n",
        "      #Calculamos la prediccion del modelo y la funcion de perdida correspondiente\n",
        "      pred = model(X)\n",
        "      loss = loss_fn(pred,y)\n",
        "      #Backpropagamos usando el optimizador atribuido\n",
        "      optimizer.zero_grad()\n",
        "      loss.backward()\n",
        "      optimizer.step()\n",
        "      #Calculamos la perdida promedio del batch y lo agregamos a una suma correspondiente\n",
        "      batch_avrg_loss = loss.item()\n",
        "      sum_batch_avrg_loss += batch_avrg_loss\n",
        "      #Reportamos el proceso\n",
        "      if batch % (num_batches/10) == 0 and verbose:\n",
        "        current = batch * len(X)\n",
        "        print(f\"loss: {batch_avrg_loss:>7f}  [{current:>5d}/{num_samples:>5d}]\")\n",
        "\n",
        "    avg_loss = sum_batch_avrg_loss/num_processed_samples\n",
        "    return avg_loss\n"
      ],
      "metadata": {
        "id": "hyuXv-0x29Xw"
      },
      "execution_count": 19,
      "outputs": []
    },
    {
      "cell_type": "code",
      "source": [
        "# HACER EL LOOP DE VALIDACION\n",
        "def eval_loop(dataloader, model, loss_fn):\n",
        "    # Desactivamos la maquinaria de entrenamiento del modelo\n",
        "    model.eval()\n",
        "\n",
        "    # Definimos ciertas constantes\n",
        "    num_samples = len(dataloader.dataset)\n",
        "    num_batches = len(dataloader)\n",
        "    sum_batch_avrg_loss = 0\n",
        "    num_processed_samples = 0\n",
        "\n",
        "    # Movemos el modelo a la GPU si es que está disponible\n",
        "    model = model.to(device)\n",
        "\n",
        "    # Para testear, desactivamos el cálculo de gradientes.\n",
        "    with torch.no_grad():\n",
        "        # Iteramos sobre lotes (batches)\n",
        "        for X, y in dataloader:\n",
        "            # Copiamos las entradas y las salidas al dispositivo de trabajo si es que está disponible\n",
        "            X = X.to(device)\n",
        "            y = y.to(device)\n",
        "            batch_size = len(X)  # Número de muestras en el lote\n",
        "            num_processed_samples += batch_size\n",
        "\n",
        "            # Calculamos las predicciones del modelo...\n",
        "            pred = model(X)\n",
        "            loss = loss_fn(pred, y)\n",
        "\n",
        "            # Calculamos la pérdida promedio del batch y lo agregamos a una suma correspondiente.\n",
        "            batch_avrg_loss = loss.item()\n",
        "            sum_batch_avrg_loss += batch_avrg_loss\n",
        "\n",
        "        # Calculamos la pérdida total promedio dividiendo entre el número de batches\n",
        "        avg_loss = sum_batch_avrg_loss / num_batches\n",
        "\n",
        "        # Imprimimos el resultado (opcional)\n",
        "        # print(f\"@eval_loop avg_loss={avg_loss:>.8f}\")\n",
        "\n",
        "    return avg_loss\n"
      ],
      "metadata": {
        "id": "91Dag-ez1fpt"
      },
      "execution_count": 22,
      "outputs": []
    },
    {
      "cell_type": "code",
      "source": [
        "# CREO LOS DATA LOADERS\n",
        "\n",
        "batch_size = 100\n",
        "train_loader = DataLoader(train_set, batch_size=batch_size, shuffle = True)\n",
        "valid_loader = DataLoader(valid_set, batch_size=batch_size, shuffle = True)\n",
        "\n",
        "num_train_batches = len(train_loader)\n",
        "num_valid_batches = len(valid_loader)\n",
        "\n",
        "print(f\"Number of train batches: {num_train_batches}\")\n",
        "print(f\"Number of valid batches: {num_valid_batches}\")\n",
        "\n"
      ],
      "metadata": {
        "colab": {
          "base_uri": "https://localhost:8080/"
        },
        "id": "E16gxmAh4dst",
        "outputId": "81db0fd9-df0d-4189-d638-22dd1fe05235"
      },
      "execution_count": 24,
      "outputs": [
        {
          "output_type": "stream",
          "name": "stdout",
          "text": [
            "Number of train batches: 600\n",
            "Number of valid batches: 100\n"
          ]
        }
      ]
    },
    {
      "cell_type": "code",
      "source": [
        "#5.4\n",
        "#Creo una instancia de una funcion de perdida, en este caso una entropy loss\n",
        "\n",
        "#loss_fn = nn.CrossEntropyLoss()\n",
        "loss_fn = nn.MSELoss() #Para el autoencoder"
      ],
      "metadata": {
        "id": "Yu97pFGP43NV"
      },
      "execution_count": 25,
      "outputs": []
    },
    {
      "cell_type": "code",
      "source": [
        "# 5.5\n",
        "#Creamos el modelo\n",
        "p = 0.2\n",
        "model = Autoencoder(p=p)"
      ],
      "metadata": {
        "id": "LKwK8kvTgkdM"
      },
      "execution_count": 26,
      "outputs": []
    },
    {
      "cell_type": "code",
      "source": [
        "#5.6\n",
        "#Creamos un optimizador, con Stocastic Gradient Descent o un ADAM\n",
        "\n",
        "learning_rate = 1e-3\n",
        "optimizer = torch.optim.Adam(model.parameters(), lr=learning_rate,eps =1e-08,weight_decay=0,amsgrad=False)\n",
        "#optimizer = torch.optim.SGD(model.parameters(), lr=learning_rate)"
      ],
      "metadata": {
        "id": "U3BBvDBigvc0"
      },
      "execution_count": 27,
      "outputs": []
    },
    {
      "cell_type": "code",
      "source": [
        "#5.7\n",
        "#Determinamos en que dispositivo vamos a trabajar, en una CPU o GPU\n",
        "\n",
        "device = torch.device(\"cuda\" if torch.cuda.is_available() else \"cpu\")\n",
        "\n",
        "#Pasamos el modelo al dispositivo\n",
        "model = model.to(device)"
      ],
      "metadata": {
        "id": "BUtYBifHhV9L"
      },
      "execution_count": 28,
      "outputs": []
    },
    {
      "cell_type": "code",
      "source": [
        "# 5.8) y 5.9)\n",
        "# Finalmente, entrenamos iterando sobre épocas.\n",
        "# Además, testeamos el modelo en cada una de ellas.\n",
        "\n",
        "num_epochs = 30\n",
        "list_avg_train_loss_incorrecta = []\n",
        "list_avg_train_loss = []\n",
        "list_avg_valid_loss = []\n",
        "\n",
        "for epoch in range(num_epochs):\n",
        "    print(f\"Epoch {epoch+1}----------------------------\")\n",
        "    avg_train_loss_incorrecta = train_loop(train_loader, model, loss_fn, optimizer)\n",
        "    avg_train_loss = eval_loop(train_loader, model, loss_fn)\n",
        "    avg_valid_loss = eval_loop(valid_loader, model, loss_fn)\n",
        "\n",
        "    list_avg_train_loss_incorrecta.append(avg_train_loss_incorrecta)\n",
        "    list_avg_train_loss.append(avg_train_loss)\n",
        "    list_avg_valid_loss.append(avg_valid_loss)\n",
        "\n",
        "    print(\"avg_train_loss_incorrecta:\", avg_train_loss_incorrecta)\n",
        "    print(\"avg_train_loss:\", avg_train_loss)\n",
        "    print(\"avg_valid_loss:\", avg_valid_loss)\n",
        "\n",
        "print(\"Done!\")\n"
      ],
      "metadata": {
        "colab": {
          "base_uri": "https://localhost:8080/"
        },
        "id": "9zxG9mD-irom",
        "outputId": "7f9a4a31-0de6-478c-fc6b-75c5ed3fcc76"
      },
      "execution_count": 29,
      "outputs": [
        {
          "output_type": "stream",
          "name": "stdout",
          "text": [
            "Epoch 1----------------------------\n",
            "loss: 1.342495  [    0/60000]\n",
            "loss: 0.651838  [ 6000/60000]\n",
            "loss: 0.651268  [12000/60000]\n",
            "loss: 0.607005  [18000/60000]\n",
            "loss: 0.626269  [24000/60000]\n",
            "loss: 0.605873  [30000/60000]\n",
            "loss: 0.599319  [36000/60000]\n",
            "loss: 0.623476  [42000/60000]\n",
            "loss: 0.599372  [48000/60000]\n",
            "loss: 0.616635  [54000/60000]\n",
            "avg_train_loss_incorrecta: 0.006205200094978014\n",
            "avg_train_loss: 0.5925673464934031\n",
            "avg_valid_loss: 0.5902334594726563\n",
            "Epoch 2----------------------------\n",
            "loss: 0.590298  [    0/60000]\n",
            "loss: 0.581239  [ 6000/60000]\n",
            "loss: 0.588787  [12000/60000]\n",
            "loss: 0.587179  [18000/60000]\n",
            "loss: 0.599281  [24000/60000]\n",
            "loss: 0.589062  [30000/60000]\n",
            "loss: 0.575274  [36000/60000]\n",
            "loss: 0.591505  [42000/60000]\n",
            "loss: 0.589704  [48000/60000]\n",
            "loss: 0.587467  [54000/60000]\n",
            "avg_train_loss_incorrecta: 0.005921285474300385\n",
            "avg_train_loss: 0.5862320095300675\n",
            "avg_valid_loss: 0.5839496970176696\n",
            "Epoch 3----------------------------\n",
            "loss: 0.593576  [    0/60000]\n",
            "loss: 0.611280  [ 6000/60000]\n",
            "loss: 0.601111  [12000/60000]\n",
            "loss: 0.583932  [18000/60000]\n",
            "loss: 0.578397  [24000/60000]\n",
            "loss: 0.575121  [30000/60000]\n",
            "loss: 0.574233  [36000/60000]\n",
            "loss: 0.565331  [42000/60000]\n",
            "loss: 0.580450  [48000/60000]\n",
            "loss: 0.596537  [54000/60000]\n",
            "avg_train_loss_incorrecta: 0.005882375104228656\n",
            "avg_train_loss: 0.5839258481065432\n",
            "avg_valid_loss: 0.5816613256931304\n",
            "Epoch 4----------------------------\n",
            "loss: 0.583999  [    0/60000]\n",
            "loss: 0.593517  [ 6000/60000]\n",
            "loss: 0.586839  [12000/60000]\n",
            "loss: 0.606375  [18000/60000]\n",
            "loss: 0.609681  [24000/60000]\n",
            "loss: 0.568546  [30000/60000]\n",
            "loss: 0.623461  [36000/60000]\n",
            "loss: 0.584697  [42000/60000]\n",
            "loss: 0.587567  [48000/60000]\n",
            "loss: 0.573054  [54000/60000]\n",
            "avg_train_loss_incorrecta: 0.005865868318080902\n",
            "avg_train_loss: 0.5827171886960666\n",
            "avg_valid_loss: 0.5804622608423233\n",
            "Epoch 5----------------------------\n",
            "loss: 0.579740  [    0/60000]\n",
            "loss: 0.588369  [ 6000/60000]\n",
            "loss: 0.592910  [12000/60000]\n",
            "loss: 0.588132  [18000/60000]\n",
            "loss: 0.589410  [24000/60000]\n",
            "loss: 0.592203  [30000/60000]\n",
            "loss: 0.560487  [36000/60000]\n",
            "loss: 0.576158  [42000/60000]\n",
            "loss: 0.562397  [48000/60000]\n",
            "loss: 0.564364  [54000/60000]\n",
            "avg_train_loss_incorrecta: 0.005856484534343084\n",
            "avg_train_loss: 0.5818202233314514\n",
            "avg_valid_loss: 0.5795778739452362\n",
            "Epoch 6----------------------------\n",
            "loss: 0.598938  [    0/60000]\n",
            "loss: 0.588827  [ 6000/60000]\n",
            "loss: 0.583892  [12000/60000]\n",
            "loss: 0.593350  [18000/60000]\n",
            "loss: 0.588605  [24000/60000]\n",
            "loss: 0.582404  [30000/60000]\n",
            "loss: 0.586628  [36000/60000]\n",
            "loss: 0.567497  [42000/60000]\n",
            "loss: 0.603956  [48000/60000]\n",
            "loss: 0.592809  [54000/60000]\n",
            "avg_train_loss_incorrecta: 0.005849607791503271\n",
            "avg_train_loss: 0.5811647183696429\n",
            "avg_valid_loss: 0.5789403277635574\n",
            "Epoch 7----------------------------\n",
            "loss: 0.575579  [    0/60000]\n",
            "loss: 0.603359  [ 6000/60000]\n",
            "loss: 0.605715  [12000/60000]\n",
            "loss: 0.597500  [18000/60000]\n",
            "loss: 0.602561  [24000/60000]\n",
            "loss: 0.585024  [30000/60000]\n",
            "loss: 0.579457  [36000/60000]\n",
            "loss: 0.581097  [42000/60000]\n",
            "loss: 0.592646  [48000/60000]\n",
            "loss: 0.598487  [54000/60000]\n",
            "avg_train_loss_incorrecta: 0.005844564264019331\n",
            "avg_train_loss: 0.5807189699014028\n",
            "avg_valid_loss: 0.578506196141243\n",
            "Epoch 8----------------------------\n",
            "loss: 0.562493  [    0/60000]\n",
            "loss: 0.583947  [ 6000/60000]\n",
            "loss: 0.592211  [12000/60000]\n",
            "loss: 0.556533  [18000/60000]\n",
            "loss: 0.573460  [24000/60000]\n",
            "loss: 0.565237  [30000/60000]\n",
            "loss: 0.581411  [36000/60000]\n",
            "loss: 0.591926  [42000/60000]\n",
            "loss: 0.569676  [48000/60000]\n",
            "loss: 0.588736  [54000/60000]\n",
            "avg_train_loss_incorrecta: 0.005840500575304031\n",
            "avg_train_loss: 0.5803631083170573\n",
            "avg_valid_loss: 0.5781844687461853\n",
            "Epoch 9----------------------------\n",
            "loss: 0.590436  [    0/60000]\n",
            "loss: 0.571375  [ 6000/60000]\n",
            "loss: 0.606157  [12000/60000]\n",
            "loss: 0.609498  [18000/60000]\n",
            "loss: 0.577864  [24000/60000]\n",
            "loss: 0.572049  [30000/60000]\n",
            "loss: 0.582157  [36000/60000]\n",
            "loss: 0.561862  [42000/60000]\n",
            "loss: 0.560578  [48000/60000]\n",
            "loss: 0.598295  [54000/60000]\n",
            "avg_train_loss_incorrecta: 0.005836862694223722\n",
            "avg_train_loss: 0.579899309972922\n",
            "avg_valid_loss: 0.5777273774147034\n",
            "Epoch 10----------------------------\n",
            "loss: 0.576218  [    0/60000]\n",
            "loss: 0.590720  [ 6000/60000]\n",
            "loss: 0.591042  [12000/60000]\n",
            "loss: 0.596207  [18000/60000]\n",
            "loss: 0.591203  [24000/60000]\n",
            "loss: 0.583304  [30000/60000]\n",
            "loss: 0.598037  [36000/60000]\n",
            "loss: 0.562552  [42000/60000]\n",
            "loss: 0.576691  [48000/60000]\n",
            "loss: 0.568679  [54000/60000]\n",
            "avg_train_loss_incorrecta: 0.005833890975515048\n",
            "avg_train_loss: 0.5796547715862592\n",
            "avg_valid_loss: 0.5775019389390945\n",
            "Epoch 11----------------------------\n",
            "loss: 0.565364  [    0/60000]\n",
            "loss: 0.577267  [ 6000/60000]\n",
            "loss: 0.575708  [12000/60000]\n",
            "loss: 0.571941  [18000/60000]\n",
            "loss: 0.589015  [24000/60000]\n",
            "loss: 0.576550  [30000/60000]\n",
            "loss: 0.600793  [36000/60000]\n",
            "loss: 0.577037  [42000/60000]\n",
            "loss: 0.580467  [48000/60000]\n",
            "loss: 0.591995  [54000/60000]\n",
            "avg_train_loss_incorrecta: 0.005831381412347158\n",
            "avg_train_loss: 0.5793772735198339\n",
            "avg_valid_loss: 0.5772347408533096\n",
            "Epoch 12----------------------------\n",
            "loss: 0.586606  [    0/60000]\n",
            "loss: 0.588843  [ 6000/60000]\n",
            "loss: 0.571910  [12000/60000]\n",
            "loss: 0.582934  [18000/60000]\n",
            "loss: 0.583926  [24000/60000]\n",
            "loss: 0.604527  [30000/60000]\n",
            "loss: 0.582410  [36000/60000]\n",
            "loss: 0.611126  [42000/60000]\n",
            "loss: 0.570823  [48000/60000]\n",
            "loss: 0.574419  [54000/60000]\n",
            "avg_train_loss_incorrecta: 0.005829137698809305\n",
            "avg_train_loss: 0.5791276589035987\n",
            "avg_valid_loss: 0.5769999599456788\n",
            "Epoch 13----------------------------\n",
            "loss: 0.589598  [    0/60000]\n",
            "loss: 0.604605  [ 6000/60000]\n",
            "loss: 0.617886  [12000/60000]\n",
            "loss: 0.594398  [18000/60000]\n",
            "loss: 0.585208  [24000/60000]\n",
            "loss: 0.594787  [30000/60000]\n",
            "loss: 0.603894  [36000/60000]\n",
            "loss: 0.579205  [42000/60000]\n",
            "loss: 0.599490  [48000/60000]\n",
            "loss: 0.608923  [54000/60000]\n",
            "avg_train_loss_incorrecta: 0.0058273632963498434\n",
            "avg_train_loss: 0.5789828178286552\n",
            "avg_valid_loss: 0.5768593341112137\n",
            "Epoch 14----------------------------\n",
            "loss: 0.600591  [    0/60000]\n",
            "loss: 0.596518  [ 6000/60000]\n",
            "loss: 0.579890  [12000/60000]\n",
            "loss: 0.573350  [18000/60000]\n",
            "loss: 0.573429  [24000/60000]\n",
            "loss: 0.588112  [30000/60000]\n",
            "loss: 0.593604  [36000/60000]\n",
            "loss: 0.562447  [42000/60000]\n",
            "loss: 0.586333  [48000/60000]\n",
            "loss: 0.590891  [54000/60000]\n",
            "avg_train_loss_incorrecta: 0.00582561210890611\n",
            "avg_train_loss: 0.5788421159982682\n",
            "avg_valid_loss: 0.5767228311300278\n",
            "Epoch 15----------------------------\n",
            "loss: 0.596183  [    0/60000]\n",
            "loss: 0.594100  [ 6000/60000]\n",
            "loss: 0.578675  [12000/60000]\n",
            "loss: 0.594606  [18000/60000]\n",
            "loss: 0.571266  [24000/60000]\n",
            "loss: 0.573444  [30000/60000]\n",
            "loss: 0.548377  [36000/60000]\n",
            "loss: 0.608485  [42000/60000]\n",
            "loss: 0.586686  [48000/60000]\n",
            "loss: 0.576317  [54000/60000]\n",
            "avg_train_loss_incorrecta: 0.005824290744463603\n",
            "avg_train_loss: 0.5786506836613019\n",
            "avg_valid_loss: 0.5765504312515258\n",
            "Epoch 16----------------------------\n",
            "loss: 0.571159  [    0/60000]\n",
            "loss: 0.567153  [ 6000/60000]\n",
            "loss: 0.600126  [12000/60000]\n",
            "loss: 0.579411  [18000/60000]\n",
            "loss: 0.580033  [24000/60000]\n",
            "loss: 0.585645  [30000/60000]\n",
            "loss: 0.596498  [36000/60000]\n",
            "loss: 0.590162  [42000/60000]\n",
            "loss: 0.565935  [48000/60000]\n",
            "loss: 0.599912  [54000/60000]\n",
            "avg_train_loss_incorrecta: 0.005822943971554438\n",
            "avg_train_loss: 0.5786156466603279\n",
            "avg_valid_loss: 0.5765322512388229\n",
            "Epoch 17----------------------------\n",
            "loss: 0.580435  [    0/60000]\n",
            "loss: 0.594769  [ 6000/60000]\n",
            "loss: 0.568449  [12000/60000]\n",
            "loss: 0.595216  [18000/60000]\n",
            "loss: 0.575504  [24000/60000]\n",
            "loss: 0.571224  [30000/60000]\n",
            "loss: 0.579175  [36000/60000]\n",
            "loss: 0.571239  [42000/60000]\n",
            "loss: 0.587578  [48000/60000]\n",
            "loss: 0.581998  [54000/60000]\n",
            "avg_train_loss_incorrecta: 0.005821712925036748\n",
            "avg_train_loss: 0.5784151611725489\n",
            "avg_valid_loss: 0.5763303279876709\n",
            "Epoch 18----------------------------\n",
            "loss: 0.599109  [    0/60000]\n",
            "loss: 0.583494  [ 6000/60000]\n",
            "loss: 0.562464  [12000/60000]\n",
            "loss: 0.578919  [18000/60000]\n",
            "loss: 0.557138  [24000/60000]\n",
            "loss: 0.585897  [30000/60000]\n",
            "loss: 0.593238  [36000/60000]\n",
            "loss: 0.556546  [42000/60000]\n",
            "loss: 0.585580  [48000/60000]\n",
            "loss: 0.614572  [54000/60000]\n",
            "avg_train_loss_incorrecta: 0.005820879239837329\n",
            "avg_train_loss: 0.5783508252104124\n",
            "avg_valid_loss: 0.5762620341777801\n",
            "Epoch 19----------------------------\n",
            "loss: 0.593934  [    0/60000]\n",
            "loss: 0.580266  [ 6000/60000]\n",
            "loss: 0.575935  [12000/60000]\n",
            "loss: 0.582914  [18000/60000]\n",
            "loss: 0.571206  [24000/60000]\n",
            "loss: 0.547939  [30000/60000]\n",
            "loss: 0.601137  [36000/60000]\n",
            "loss: 0.596888  [42000/60000]\n",
            "loss: 0.574361  [48000/60000]\n",
            "loss: 0.575109  [54000/60000]\n",
            "avg_train_loss_incorrecta: 0.005820039641857147\n",
            "avg_train_loss: 0.5782451637585958\n",
            "avg_valid_loss: 0.5761735785007477\n",
            "Epoch 20----------------------------\n",
            "loss: 0.573565  [    0/60000]\n",
            "loss: 0.568323  [ 6000/60000]\n",
            "loss: 0.565911  [12000/60000]\n",
            "loss: 0.556051  [18000/60000]\n",
            "loss: 0.584558  [24000/60000]\n",
            "loss: 0.569849  [30000/60000]\n",
            "loss: 0.572351  [36000/60000]\n",
            "loss: 0.564776  [42000/60000]\n",
            "loss: 0.581407  [48000/60000]\n",
            "loss: 0.597321  [54000/60000]\n",
            "avg_train_loss_incorrecta: 0.005819237885872523\n",
            "avg_train_loss: 0.5781758822997412\n",
            "avg_valid_loss: 0.5761079162359237\n",
            "Epoch 21----------------------------\n",
            "loss: 0.566599  [    0/60000]\n",
            "loss: 0.563033  [ 6000/60000]\n",
            "loss: 0.592668  [12000/60000]\n",
            "loss: 0.601199  [18000/60000]\n",
            "loss: 0.578015  [24000/60000]\n",
            "loss: 0.569781  [30000/60000]\n",
            "loss: 0.580095  [36000/60000]\n",
            "loss: 0.589757  [42000/60000]\n",
            "loss: 0.580217  [48000/60000]\n",
            "loss: 0.599980  [54000/60000]\n",
            "avg_train_loss_incorrecta: 0.0058184867511192956\n",
            "avg_train_loss: 0.5781204204758008\n",
            "avg_valid_loss: 0.5760688310861588\n",
            "Epoch 22----------------------------\n",
            "loss: 0.595738  [    0/60000]\n",
            "loss: 0.581719  [ 6000/60000]\n",
            "loss: 0.561103  [12000/60000]\n",
            "loss: 0.606174  [18000/60000]\n",
            "loss: 0.569582  [24000/60000]\n",
            "loss: 0.554370  [30000/60000]\n",
            "loss: 0.564586  [36000/60000]\n",
            "loss: 0.578659  [42000/60000]\n",
            "loss: 0.580491  [48000/60000]\n",
            "loss: 0.583179  [54000/60000]\n",
            "avg_train_loss_incorrecta: 0.005817780462900797\n",
            "avg_train_loss: 0.5779227415720621\n",
            "avg_valid_loss: 0.5758778274059295\n",
            "Epoch 23----------------------------\n",
            "loss: 0.587170  [    0/60000]\n",
            "loss: 0.581087  [ 6000/60000]\n",
            "loss: 0.592903  [12000/60000]\n",
            "loss: 0.586028  [18000/60000]\n",
            "loss: 0.567182  [24000/60000]\n",
            "loss: 0.558254  [30000/60000]\n",
            "loss: 0.599711  [36000/60000]\n",
            "loss: 0.590791  [42000/60000]\n",
            "loss: 0.596861  [48000/60000]\n",
            "loss: 0.591234  [54000/60000]\n",
            "avg_train_loss_incorrecta: 0.005817332419753075\n",
            "avg_train_loss: 0.5779791649182637\n",
            "avg_valid_loss: 0.5759430277347565\n",
            "Epoch 24----------------------------\n",
            "loss: 0.562992  [    0/60000]\n",
            "loss: 0.609206  [ 6000/60000]\n",
            "loss: 0.587061  [12000/60000]\n",
            "loss: 0.588802  [18000/60000]\n",
            "loss: 0.563649  [24000/60000]\n",
            "loss: 0.599785  [30000/60000]\n",
            "loss: 0.555448  [36000/60000]\n",
            "loss: 0.586334  [42000/60000]\n",
            "loss: 0.574000  [48000/60000]\n",
            "loss: 0.591862  [54000/60000]\n",
            "avg_train_loss_incorrecta: 0.005816741671164831\n",
            "avg_train_loss: 0.5779022295276324\n",
            "avg_valid_loss: 0.5758616632223129\n",
            "Epoch 25----------------------------\n",
            "loss: 0.582190  [    0/60000]\n",
            "loss: 0.592155  [ 6000/60000]\n",
            "loss: 0.573322  [12000/60000]\n",
            "loss: 0.569864  [18000/60000]\n",
            "loss: 0.569482  [24000/60000]\n",
            "loss: 0.580367  [30000/60000]\n",
            "loss: 0.586739  [36000/60000]\n",
            "loss: 0.617410  [42000/60000]\n",
            "loss: 0.581519  [48000/60000]\n",
            "loss: 0.591052  [54000/60000]\n",
            "avg_train_loss_incorrecta: 0.005816131837169329\n",
            "avg_train_loss: 0.5778740097085635\n",
            "avg_valid_loss: 0.5758388733863831\n",
            "Epoch 26----------------------------\n",
            "loss: 0.584972  [    0/60000]\n",
            "loss: 0.578296  [ 6000/60000]\n",
            "loss: 0.582972  [12000/60000]\n",
            "loss: 0.555667  [18000/60000]\n",
            "loss: 0.570644  [24000/60000]\n",
            "loss: 0.601318  [30000/60000]\n",
            "loss: 0.556977  [36000/60000]\n",
            "loss: 0.575068  [42000/60000]\n",
            "loss: 0.596210  [48000/60000]\n",
            "loss: 0.603190  [54000/60000]\n",
            "avg_train_loss_incorrecta: 0.005815701875090599\n",
            "avg_train_loss: 0.5778127978245418\n",
            "avg_valid_loss: 0.575781255364418\n",
            "Epoch 27----------------------------\n",
            "loss: 0.593453  [    0/60000]\n",
            "loss: 0.567914  [ 6000/60000]\n",
            "loss: 0.569418  [12000/60000]\n",
            "loss: 0.576850  [18000/60000]\n",
            "loss: 0.587315  [24000/60000]\n",
            "loss: 0.589095  [30000/60000]\n",
            "loss: 0.594378  [36000/60000]\n",
            "loss: 0.563816  [42000/60000]\n",
            "loss: 0.576979  [48000/60000]\n",
            "loss: 0.590685  [54000/60000]\n",
            "avg_train_loss_incorrecta: 0.005815103529890378\n",
            "avg_train_loss: 0.577804963986079\n",
            "avg_valid_loss: 0.5757819527387619\n",
            "Epoch 28----------------------------\n",
            "loss: 0.589820  [    0/60000]\n",
            "loss: 0.551618  [ 6000/60000]\n",
            "loss: 0.561672  [12000/60000]\n",
            "loss: 0.563501  [18000/60000]\n",
            "loss: 0.586447  [24000/60000]\n",
            "loss: 0.571391  [30000/60000]\n",
            "loss: 0.605715  [36000/60000]\n",
            "loss: 0.563745  [42000/60000]\n",
            "loss: 0.567710  [48000/60000]\n",
            "loss: 0.572797  [54000/60000]\n",
            "avg_train_loss_incorrecta: 0.005814951446652413\n",
            "avg_train_loss: 0.5777191486954689\n",
            "avg_valid_loss: 0.5757105326652527\n",
            "Epoch 29----------------------------\n",
            "loss: 0.597209  [    0/60000]\n",
            "loss: 0.580312  [ 6000/60000]\n",
            "loss: 0.581668  [12000/60000]\n",
            "loss: 0.578189  [18000/60000]\n",
            "loss: 0.559117  [24000/60000]\n",
            "loss: 0.586926  [30000/60000]\n",
            "loss: 0.577881  [36000/60000]\n",
            "loss: 0.591560  [42000/60000]\n",
            "loss: 0.590379  [48000/60000]\n",
            "loss: 0.581389  [54000/60000]\n",
            "avg_train_loss_incorrecta: 0.005814273891846339\n",
            "avg_train_loss: 0.5776534636815389\n",
            "avg_valid_loss: 0.5756438928842544\n",
            "Epoch 30----------------------------\n",
            "loss: 0.587657  [    0/60000]\n",
            "loss: 0.599065  [ 6000/60000]\n",
            "loss: 0.599495  [12000/60000]\n",
            "loss: 0.572226  [18000/60000]\n",
            "loss: 0.559963  [24000/60000]\n",
            "loss: 0.586245  [30000/60000]\n",
            "loss: 0.609566  [36000/60000]\n",
            "loss: 0.579496  [42000/60000]\n",
            "loss: 0.592351  [48000/60000]\n",
            "loss: 0.559274  [54000/60000]\n",
            "avg_train_loss_incorrecta: 0.005813999918103218\n",
            "avg_train_loss: 0.5776627011100451\n",
            "avg_valid_loss: 0.5756591898202896\n",
            "Done!\n"
          ]
        }
      ]
    },
    {
      "cell_type": "code",
      "source": [
        "#5.10\n",
        "plt.xlabel(\"epoch\")\n",
        "plt.ylabel(\"loss\")\n",
        "#plt.plot(list(range(1,len(list_avg_train_loss_incorrecta)+1)),list_avg_train_loss_incorrecta,label=\"train_loss_incorrecta\", linestyle=\"-\", c=\"red\")\n",
        "plt.plot(list(range(1,len(list_avg_train_loss)+1)),list_avg_train_loss, label=\"train_loss\", linestyle=\"-\", c=\"green\")\n",
        "plt.plot(list(range(1,len(list_avg_valid_loss)+1)),list_avg_valid_loss, label=\"valid_loss\", linestyle=\"--\", c=\"blue\")\n",
        "plt.legend()\n",
        "plt.show()"
      ],
      "metadata": {
        "colab": {
          "base_uri": "https://localhost:8080/",
          "height": 449
        },
        "id": "vMuB59_Nnc8s",
        "outputId": "7c37156c-3566-4cf3-afcb-f87b3b0b823d"
      },
      "execution_count": 31,
      "outputs": [
        {
          "output_type": "display_data",
          "data": {
            "text/plain": [
              "<Figure size 640x480 with 1 Axes>"
            ],
            "image/png": "[encoded data removed]"
          },
          "metadata": {}
        }
      ]
    },
    {
      "cell_type": "code",
      "source": [
        "# Miramos ahora las imagenes que predice el modelo\n",
        "#5.11\n",
        "figure = plt.figure()\n",
        "row,cols = 3,2\n",
        "i = 0\n",
        "model.eval()\n",
        "for row in range(1, rows+1):\n",
        "  j = torch.randint(len(train_set),size=(1,)).item()\n",
        "  i += 1\n",
        "  image, flatten_image = train_set[j]\n",
        "  image = image.to(device)\n",
        "  figure.add_subplot(rows,cols,i)\n",
        "  if row == 1:\n",
        "    plt.title(\"Original\")\n",
        "  plt.axis(\"off\")\n",
        "  plt.imshow(unbatch(image),cmap=\"Greys_r\")\n",
        "\n",
        "  i += 1\n",
        "  figure.add_subplot(rows,cols,i)\n",
        "  if row == 1:\n",
        "    plt.title(\"Predicha\")\n",
        "  plt.axis(\"off\")\n",
        "  pred = unbatch(model(batch(image)))\n",
        "  plt.imshow(pred,cmap=\"Greys_r\")\n",
        "\n",
        "plt.show()"
      ],
      "metadata": {
        "colab": {
          "base_uri": "https://localhost:8080/",
          "height": 428
        },
        "id": "lJffjg-xoeFG",
        "outputId": "ea2030bc-9389-4771-c25f-28c9178a5134"
      },
      "execution_count": 36,
      "outputs": [
        {
          "output_type": "display_data",
          "data": {
            "text/plain": [
              "<Figure size 640x480 with 6 Axes>"
            ],
            "image/png": "[encoded data removed]"
          },
          "metadata": {}
        }
      ]
    },
    {
      "cell_type": "code",
      "source": [
        "import torch\n",
        "import matplotlib.pyplot as plt\n",
        "\n",
        "# Configuramos el dispositivo (CPU o GPU)\n",
        "device = torch.device(\"cuda\" if torch.cuda.is_available() else \"cpu\")\n",
        "\n",
        "# Movemos el modelo al dispositivo\n",
        "model = model.to(device)\n",
        "model.eval()\n",
        "\n",
        "# Configuramos la figura para graficar\n",
        "figure = plt.figure(figsize=(10, 6))  # Ajustar tamaño de la figura\n",
        "rows, cols = 3, 2  # Tres filas y dos columnas para gráficos comparativos\n",
        "i = 0  # Índice de la subtrama\n",
        "\n",
        "# Iteramos sobre el número de imágenes a graficar (3 pares: original vs predicha)\n",
        "for row in range(1, rows // 2 + 1):\n",
        "    # Seleccionamos una imagen aleatoria del conjunto de entrenamiento\n",
        "    idx = torch.randint(len(train_set), size=(1,)).item()\n",
        "    image, label = train_set[idx]  # Obtenemos imagen y etiqueta (original)\n",
        "\n",
        "    # Añadimos la imagen original al gráfico\n",
        "    i += 1\n",
        "    figure.add_subplot(rows, cols, i)\n",
        "    plt.title(\"Original\") if i == 1 else None  # Título solo en la primera fila\n",
        "    plt.axis(\"off\")\n",
        "    plt.imshow(image.squeeze(), cmap=\"gray\")  # Graficar imagen original\n",
        "\n",
        "    # Movemos la imagen al dispositivo adecuado\n",
        "    image = image.to(device)\n",
        "\n",
        "    # Obtenemos la predicción del modelo\n",
        "    with torch.no_grad():\n",
        "        pred_image = model(image.unsqueeze(0))  # Pasamos la imagen al modelo\n",
        "        pred_image = pred_image.cpu().squeeze().detach().numpy()  # Convertimos a numpy en CPU\n",
        "\n",
        "    # Añadimos la imagen predicha al gráfico\n",
        "    i += 1\n",
        "    figure.add_subplot(rows, cols, i)\n",
        "    plt.title(\"Predicha\") if i == 2 else None  # Título solo en la primera fila\n",
        "    plt.axis(\"off\")\n",
        "    plt.imshow(pred_image, cmap=\"gray\")  # Graficar imagen predicha\n",
        "\n",
        "# Ajustamos el diseño del gráfico y mostramos\n",
        "plt.tight_layout()\n",
        "plt.show()\n"
      ],
      "metadata": {
        "colab": {
          "base_uri": "https://localhost:8080/",
          "height": 231
        },
        "id": "axvMWVNEp6td",
        "outputId": "5e42f9b3-3cb0-4e64-df99-c349c9ad7ea3"
      },
      "execution_count": 33,
      "outputs": [
        {
          "output_type": "display_data",
          "data": {
            "text/plain": [
              "<Figure size 1000x600 with 2 Axes>"
            ],
            "image/png": "[encoded data removed]"
          },
          "metadata": {}
        }
      ]
    }
  ]
}